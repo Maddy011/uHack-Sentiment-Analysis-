{
 "cells": [
  {
   "cell_type": "code",
   "execution_count": 1,
   "id": "d3d1e43b",
   "metadata": {},
   "outputs": [],
   "source": [
    "import pandas as pd\n",
    "import numpy as np\n",
    "import seaborn as sns\n",
    "import matplotlib.pyplot as plt\n",
    "%matplotlib inline"
   ]
  },
  {
   "cell_type": "code",
   "execution_count": 2,
   "id": "6b47fd82",
   "metadata": {},
   "outputs": [],
   "source": [
    "from warnings import filterwarnings\n",
    "filterwarnings('ignore')\n",
    "plt.rcParams['figure.figsize'] = (15,8)"
   ]
  },
  {
   "cell_type": "code",
   "execution_count": 3,
   "id": "d9b12ef8",
   "metadata": {},
   "outputs": [],
   "source": [
    "\n",
    "data=pd.read_csv('C:/Users/smile/OneDrive/Desktop/train.csv')"
   ]
  },
  {
   "cell_type": "code",
   "execution_count": 4,
   "id": "4afce1bf",
   "metadata": {},
   "outputs": [
    {
     "data": {
      "text/html": [
       "<div>\n",
       "<style scoped>\n",
       "    .dataframe tbody tr th:only-of-type {\n",
       "        vertical-align: middle;\n",
       "    }\n",
       "\n",
       "    .dataframe tbody tr th {\n",
       "        vertical-align: top;\n",
       "    }\n",
       "\n",
       "    .dataframe thead th {\n",
       "        text-align: right;\n",
       "    }\n",
       "</style>\n",
       "<table border=\"1\" class=\"dataframe\">\n",
       "  <thead>\n",
       "    <tr style=\"text-align: right;\">\n",
       "      <th></th>\n",
       "      <th>Id</th>\n",
       "      <th>Review</th>\n",
       "      <th>Components</th>\n",
       "      <th>Delivery and Customer Support</th>\n",
       "      <th>Design and Aesthetics</th>\n",
       "      <th>Dimensions</th>\n",
       "      <th>Features</th>\n",
       "      <th>Functionality</th>\n",
       "      <th>Installation</th>\n",
       "      <th>Material</th>\n",
       "      <th>Price</th>\n",
       "      <th>Quality</th>\n",
       "      <th>Usability</th>\n",
       "      <th>Polarity</th>\n",
       "    </tr>\n",
       "  </thead>\n",
       "  <tbody>\n",
       "    <tr>\n",
       "      <th>0</th>\n",
       "      <td>0</td>\n",
       "      <td>For some reason everybody complains and I'm co...</td>\n",
       "      <td>0</td>\n",
       "      <td>0</td>\n",
       "      <td>0</td>\n",
       "      <td>0</td>\n",
       "      <td>0</td>\n",
       "      <td>0</td>\n",
       "      <td>0</td>\n",
       "      <td>0</td>\n",
       "      <td>0</td>\n",
       "      <td>0</td>\n",
       "      <td>1</td>\n",
       "      <td>0</td>\n",
       "    </tr>\n",
       "    <tr>\n",
       "      <th>1</th>\n",
       "      <td>1</td>\n",
       "      <td>I like everything about it, great choice of sp...</td>\n",
       "      <td>0</td>\n",
       "      <td>0</td>\n",
       "      <td>0</td>\n",
       "      <td>0</td>\n",
       "      <td>1</td>\n",
       "      <td>1</td>\n",
       "      <td>0</td>\n",
       "      <td>0</td>\n",
       "      <td>0</td>\n",
       "      <td>0</td>\n",
       "      <td>0</td>\n",
       "      <td>1</td>\n",
       "    </tr>\n",
       "    <tr>\n",
       "      <th>2</th>\n",
       "      <td>2</td>\n",
       "      <td>Excellent ceiling fan brace. Easy to install a...</td>\n",
       "      <td>0</td>\n",
       "      <td>0</td>\n",
       "      <td>0</td>\n",
       "      <td>0</td>\n",
       "      <td>0</td>\n",
       "      <td>0</td>\n",
       "      <td>1</td>\n",
       "      <td>0</td>\n",
       "      <td>0</td>\n",
       "      <td>1</td>\n",
       "      <td>0</td>\n",
       "      <td>1</td>\n",
       "    </tr>\n",
       "    <tr>\n",
       "      <th>3</th>\n",
       "      <td>3</td>\n",
       "      <td>Work great easy to use . No issues at all with...</td>\n",
       "      <td>0</td>\n",
       "      <td>0</td>\n",
       "      <td>0</td>\n",
       "      <td>0</td>\n",
       "      <td>0</td>\n",
       "      <td>1</td>\n",
       "      <td>0</td>\n",
       "      <td>0</td>\n",
       "      <td>0</td>\n",
       "      <td>0</td>\n",
       "      <td>1</td>\n",
       "      <td>1</td>\n",
       "    </tr>\n",
       "    <tr>\n",
       "      <th>4</th>\n",
       "      <td>4</td>\n",
       "      <td>I would recommend this product because it is p...</td>\n",
       "      <td>0</td>\n",
       "      <td>0</td>\n",
       "      <td>0</td>\n",
       "      <td>0</td>\n",
       "      <td>0</td>\n",
       "      <td>0</td>\n",
       "      <td>0</td>\n",
       "      <td>0</td>\n",
       "      <td>0</td>\n",
       "      <td>1</td>\n",
       "      <td>0</td>\n",
       "      <td>1</td>\n",
       "    </tr>\n",
       "  </tbody>\n",
       "</table>\n",
       "</div>"
      ],
      "text/plain": [
       "   Id                                             Review  Components  \\\n",
       "0   0  For some reason everybody complains and I'm co...           0   \n",
       "1   1  I like everything about it, great choice of sp...           0   \n",
       "2   2  Excellent ceiling fan brace. Easy to install a...           0   \n",
       "3   3  Work great easy to use . No issues at all with...           0   \n",
       "4   4  I would recommend this product because it is p...           0   \n",
       "\n",
       "   Delivery and Customer Support  Design and Aesthetics  Dimensions  Features  \\\n",
       "0                              0                      0           0         0   \n",
       "1                              0                      0           0         1   \n",
       "2                              0                      0           0         0   \n",
       "3                              0                      0           0         0   \n",
       "4                              0                      0           0         0   \n",
       "\n",
       "   Functionality  Installation  Material  Price  Quality  Usability  Polarity  \n",
       "0              0             0         0      0        0          1         0  \n",
       "1              1             0         0      0        0          0         1  \n",
       "2              0             1         0      0        1          0         1  \n",
       "3              1             0         0      0        0          1         1  \n",
       "4              0             0         0      0        1          0         1  "
      ]
     },
     "execution_count": 4,
     "metadata": {},
     "output_type": "execute_result"
    }
   ],
   "source": [
    "data.head()"
   ]
  },
  {
   "cell_type": "code",
   "execution_count": 5,
   "id": "34f64ec6",
   "metadata": {},
   "outputs": [
    {
     "data": {
      "text/plain": [
       "(6136, 14)"
      ]
     },
     "execution_count": 5,
     "metadata": {},
     "output_type": "execute_result"
    }
   ],
   "source": [
    "data.shape"
   ]
  },
  {
   "cell_type": "code",
   "execution_count": 6,
   "id": "ec77fd72",
   "metadata": {},
   "outputs": [
    {
     "data": {
      "text/plain": [
       "(6136, 14)"
      ]
     },
     "execution_count": 6,
     "metadata": {},
     "output_type": "execute_result"
    }
   ],
   "source": [
    "data.shape"
   ]
  },
  {
   "cell_type": "code",
   "execution_count": 7,
   "id": "db836020",
   "metadata": {},
   "outputs": [
    {
     "name": "stdout",
     "output_type": "stream",
     "text": [
      "<class 'pandas.core.frame.DataFrame'>\n",
      "RangeIndex: 6136 entries, 0 to 6135\n",
      "Data columns (total 14 columns):\n",
      " #   Column                         Non-Null Count  Dtype \n",
      "---  ------                         --------------  ----- \n",
      " 0   Id                             6136 non-null   int64 \n",
      " 1   Review                         6136 non-null   object\n",
      " 2   Components                     6136 non-null   int64 \n",
      " 3   Delivery and Customer Support  6136 non-null   int64 \n",
      " 4   Design and Aesthetics          6136 non-null   int64 \n",
      " 5   Dimensions                     6136 non-null   int64 \n",
      " 6   Features                       6136 non-null   int64 \n",
      " 7   Functionality                  6136 non-null   int64 \n",
      " 8   Installation                   6136 non-null   int64 \n",
      " 9   Material                       6136 non-null   int64 \n",
      " 10  Price                          6136 non-null   int64 \n",
      " 11  Quality                        6136 non-null   int64 \n",
      " 12  Usability                      6136 non-null   int64 \n",
      " 13  Polarity                       6136 non-null   int64 \n",
      "dtypes: int64(13), object(1)\n",
      "memory usage: 671.2+ KB\n"
     ]
    }
   ],
   "source": [
    "data.info()"
   ]
  },
  {
   "cell_type": "code",
   "execution_count": 8,
   "id": "3323ba6c",
   "metadata": {},
   "outputs": [
    {
     "data": {
      "text/plain": [
       "1    4770\n",
       "0    1366\n",
       "Name: Polarity, dtype: int64"
      ]
     },
     "execution_count": 8,
     "metadata": {},
     "output_type": "execute_result"
    }
   ],
   "source": [
    "data.Polarity.value_counts()"
   ]
  },
  {
   "cell_type": "code",
   "execution_count": 9,
   "id": "25cbb620",
   "metadata": {},
   "outputs": [
    {
     "data": {
      "image/png": "[encoded data removed]",
      "text/plain": [
       "<Figure size 1080x576 with 1 Axes>"
      ]
     },
     "metadata": {
      "needs_background": "light"
     },
     "output_type": "display_data"
    }
   ],
   "source": [
    "sns.countplot(data.Polarity)\n",
    "plt.show()"
   ]
  },
  {
   "cell_type": "code",
   "execution_count": 10,
   "id": "cdddeb1d",
   "metadata": {},
   "outputs": [],
   "source": [
    "data.drop(['Id'],axis=1,inplace=True)"
   ]
  },
  {
   "cell_type": "code",
   "execution_count": 11,
   "id": "0b4ee206",
   "metadata": {},
   "outputs": [
    {
     "data": {
      "text/plain": [
       "Review                           0\n",
       "Components                       0\n",
       "Delivery and Customer Support    0\n",
       "Design and Aesthetics            0\n",
       "Dimensions                       0\n",
       "Features                         0\n",
       "Functionality                    0\n",
       "Installation                     0\n",
       "Material                         0\n",
       "Price                            0\n",
       "Quality                          0\n",
       "Usability                        0\n",
       "Polarity                         0\n",
       "dtype: int64"
      ]
     },
     "execution_count": 11,
     "metadata": {},
     "output_type": "execute_result"
    }
   ],
   "source": [
    "data.isnull().sum()"
   ]
  },
  {
   "cell_type": "code",
   "execution_count": 12,
   "id": "ff162774",
   "metadata": {},
   "outputs": [],
   "source": [
    "percent_missing = data.isnull().sum() * 100 / len(data)\n",
    "missing_value_data = pd.DataFrame({'column_name': data.columns,\n",
    "                                 'percent_missing': percent_missing})"
   ]
  },
  {
   "cell_type": "code",
   "execution_count": 13,
   "id": "15d114a4",
   "metadata": {},
   "outputs": [
    {
     "data": {
      "text/html": [
       "<div>\n",
       "<style scoped>\n",
       "    .dataframe tbody tr th:only-of-type {\n",
       "        vertical-align: middle;\n",
       "    }\n",
       "\n",
       "    .dataframe tbody tr th {\n",
       "        vertical-align: top;\n",
       "    }\n",
       "\n",
       "    .dataframe thead th {\n",
       "        text-align: right;\n",
       "    }\n",
       "</style>\n",
       "<table border=\"1\" class=\"dataframe\">\n",
       "  <thead>\n",
       "    <tr style=\"text-align: right;\">\n",
       "      <th></th>\n",
       "      <th>column_name</th>\n",
       "      <th>percent_missing</th>\n",
       "    </tr>\n",
       "  </thead>\n",
       "  <tbody>\n",
       "    <tr>\n",
       "      <th>Review</th>\n",
       "      <td>Review</td>\n",
       "      <td>0.0</td>\n",
       "    </tr>\n",
       "    <tr>\n",
       "      <th>Components</th>\n",
       "      <td>Components</td>\n",
       "      <td>0.0</td>\n",
       "    </tr>\n",
       "    <tr>\n",
       "      <th>Delivery and Customer Support</th>\n",
       "      <td>Delivery and Customer Support</td>\n",
       "      <td>0.0</td>\n",
       "    </tr>\n",
       "    <tr>\n",
       "      <th>Design and Aesthetics</th>\n",
       "      <td>Design and Aesthetics</td>\n",
       "      <td>0.0</td>\n",
       "    </tr>\n",
       "    <tr>\n",
       "      <th>Dimensions</th>\n",
       "      <td>Dimensions</td>\n",
       "      <td>0.0</td>\n",
       "    </tr>\n",
       "    <tr>\n",
       "      <th>Features</th>\n",
       "      <td>Features</td>\n",
       "      <td>0.0</td>\n",
       "    </tr>\n",
       "    <tr>\n",
       "      <th>Functionality</th>\n",
       "      <td>Functionality</td>\n",
       "      <td>0.0</td>\n",
       "    </tr>\n",
       "    <tr>\n",
       "      <th>Installation</th>\n",
       "      <td>Installation</td>\n",
       "      <td>0.0</td>\n",
       "    </tr>\n",
       "    <tr>\n",
       "      <th>Material</th>\n",
       "      <td>Material</td>\n",
       "      <td>0.0</td>\n",
       "    </tr>\n",
       "    <tr>\n",
       "      <th>Price</th>\n",
       "      <td>Price</td>\n",
       "      <td>0.0</td>\n",
       "    </tr>\n",
       "    <tr>\n",
       "      <th>Quality</th>\n",
       "      <td>Quality</td>\n",
       "      <td>0.0</td>\n",
       "    </tr>\n",
       "    <tr>\n",
       "      <th>Usability</th>\n",
       "      <td>Usability</td>\n",
       "      <td>0.0</td>\n",
       "    </tr>\n",
       "    <tr>\n",
       "      <th>Polarity</th>\n",
       "      <td>Polarity</td>\n",
       "      <td>0.0</td>\n",
       "    </tr>\n",
       "  </tbody>\n",
       "</table>\n",
       "</div>"
      ],
      "text/plain": [
       "                                                 column_name  percent_missing\n",
       "Review                                                Review              0.0\n",
       "Components                                        Components              0.0\n",
       "Delivery and Customer Support  Delivery and Customer Support              0.0\n",
       "Design and Aesthetics                  Design and Aesthetics              0.0\n",
       "Dimensions                                        Dimensions              0.0\n",
       "Features                                            Features              0.0\n",
       "Functionality                                  Functionality              0.0\n",
       "Installation                                    Installation              0.0\n",
       "Material                                            Material              0.0\n",
       "Price                                                  Price              0.0\n",
       "Quality                                              Quality              0.0\n",
       "Usability                                          Usability              0.0\n",
       "Polarity                                            Polarity              0.0"
      ]
     },
     "execution_count": 13,
     "metadata": {},
     "output_type": "execute_result"
    }
   ],
   "source": [
    "missing_value_data"
   ]
  },
  {
   "cell_type": "code",
   "execution_count": 14,
   "id": "b7d10e01",
   "metadata": {},
   "outputs": [],
   "source": [
    "data.dropna(inplace=True)"
   ]
  },
  {
   "cell_type": "code",
   "execution_count": 15,
   "id": "6bc2a2dd",
   "metadata": {},
   "outputs": [
    {
     "data": {
      "text/plain": [
       "Review                           0\n",
       "Components                       0\n",
       "Delivery and Customer Support    0\n",
       "Design and Aesthetics            0\n",
       "Dimensions                       0\n",
       "Features                         0\n",
       "Functionality                    0\n",
       "Installation                     0\n",
       "Material                         0\n",
       "Price                            0\n",
       "Quality                          0\n",
       "Usability                        0\n",
       "Polarity                         0\n",
       "dtype: int64"
      ]
     },
     "execution_count": 15,
     "metadata": {},
     "output_type": "execute_result"
    }
   ],
   "source": [
    "data.isnull().sum()"
   ]
  },
  {
   "cell_type": "code",
   "execution_count": 16,
   "id": "7aa830c6",
   "metadata": {},
   "outputs": [
    {
     "data": {
      "text/plain": [
       "0    5862\n",
       "1     274\n",
       "Name: Components, dtype: int64"
      ]
     },
     "execution_count": 16,
     "metadata": {},
     "output_type": "execute_result"
    }
   ],
   "source": [
    "data.Components.value_counts()"
   ]
  },
  {
   "cell_type": "code",
   "execution_count": 17,
   "id": "c9f26635",
   "metadata": {},
   "outputs": [
    {
     "data": {
      "image/png": "[encoded data removed]",
      "text/plain": [
       "<Figure size 1080x576 with 1 Axes>"
      ]
     },
     "metadata": {
      "needs_background": "light"
     },
     "output_type": "display_data"
    }
   ],
   "source": [
    "sns.countplot(data.Components)\n",
    "plt.show()"
   ]
  },
  {
   "cell_type": "code",
   "execution_count": 18,
   "id": "9a29f638",
   "metadata": {},
   "outputs": [
    {
     "name": "stdout",
     "output_type": "stream",
     "text": [
      "Polarity       0     1\n",
      "Components            \n",
      "0           1182  4680\n",
      "1            184    90\n",
      "p value is: 5.094356681390319e-74\n",
      "It is a good predictor\n"
     ]
    }
   ],
   "source": [
    "from scipy.stats import chi2_contingency\n",
    "a=pd.crosstab(index=data.Components,columns=data.Polarity)\n",
    "print(a)\n",
    "b=chi2_contingency(a)\n",
    "print('p value is:',b[1])\n",
    "if b[1]<0.05:\n",
    "        print('It is a good predictor')\n",
    "else:\n",
    "        print('Bad Predictor')"
   ]
  },
  {
   "cell_type": "code",
   "execution_count": 19,
   "id": "e119aad7",
   "metadata": {},
   "outputs": [
    {
     "data": {
      "text/plain": [
       "<AxesSubplot:xlabel='Components', ylabel='Polarity'>"
      ]
     },
     "execution_count": 19,
     "metadata": {},
     "output_type": "execute_result"
    },
    {
     "data": {
      "image/png": "[encoded data removed]",
      "text/plain": [
       "<Figure size 1080x576 with 1 Axes>"
      ]
     },
     "metadata": {
      "needs_background": "light"
     },
     "output_type": "display_data"
    }
   ],
   "source": [
    "sns.violinplot(x =\"Components\",\n",
    "             y =\"Polarity\",\n",
    "             data = data)"
   ]
  },
  {
   "cell_type": "code",
   "execution_count": 20,
   "id": "bf324b46",
   "metadata": {},
   "outputs": [
    {
     "data": {
      "image/png": "[encoded data removed]",
      "text/plain": [
       "<Figure size 1080x576 with 1 Axes>"
      ]
     },
     "metadata": {
      "needs_background": "light"
     },
     "output_type": "display_data"
    }
   ],
   "source": [
    "props=dict(boxes='yellow',whiskers='green',medians='black',caps='red')\n",
    "data.Components.plot.box(patch_artist=True,vert=False,color=props)\n",
    "plt.show()"
   ]
  },
  {
   "cell_type": "code",
   "execution_count": 21,
   "id": "3b5d9922",
   "metadata": {},
   "outputs": [
    {
     "data": {
      "text/plain": [
       "0    5957\n",
       "1     179\n",
       "Name: Delivery and Customer Support, dtype: int64"
      ]
     },
     "execution_count": 21,
     "metadata": {},
     "output_type": "execute_result"
    }
   ],
   "source": [
    "data['Delivery and Customer Support'].value_counts()"
   ]
  },
  {
   "cell_type": "code",
   "execution_count": 22,
   "id": "23577899",
   "metadata": {},
   "outputs": [
    {
     "data": {
      "text/plain": [
       "<AxesSubplot:xlabel='Delivery and Customer Support', ylabel='count'>"
      ]
     },
     "execution_count": 22,
     "metadata": {},
     "output_type": "execute_result"
    },
    {
     "data": {
      "image/png": "[encoded data removed]",
      "text/plain": [
       "<Figure size 1080x576 with 1 Axes>"
      ]
     },
     "metadata": {
      "needs_background": "light"
     },
     "output_type": "display_data"
    }
   ],
   "source": [
    "sns.countplot(data['Delivery and Customer Support'])"
   ]
  },
  {
   "cell_type": "code",
   "execution_count": 23,
   "id": "c32790f4",
   "metadata": {},
   "outputs": [
    {
     "name": "stdout",
     "output_type": "stream",
     "text": [
      "Polarity                          0     1\n",
      "Delivery and Customer Support            \n",
      "0                              1289  4668\n",
      "1                                77   102\n",
      "p value is: 2.3369404688585878e-11\n",
      "It is a good predictor\n"
     ]
    }
   ],
   "source": [
    "from scipy.stats import chi2_contingency\n",
    "a=pd.crosstab(index=data['Delivery and Customer Support'],columns=data.Polarity)\n",
    "print(a)\n",
    "b=chi2_contingency(a)\n",
    "print('p value is:',b[1])\n",
    "if b[1]<0.05:\n",
    "        print('It is a good predictor')\n",
    "else:\n",
    "        print('Bad Predictor')"
   ]
  },
  {
   "cell_type": "code",
   "execution_count": 24,
   "id": "b5000112",
   "metadata": {},
   "outputs": [
    {
     "data": {
      "image/png": "[encoded data removed]",
      "text/plain": [
       "<Figure size 1080x576 with 1 Axes>"
      ]
     },
     "metadata": {
      "needs_background": "light"
     },
     "output_type": "display_data"
    }
   ],
   "source": [
    "props=dict(boxes='yellow',whiskers='green',medians='black',caps='red')\n",
    "data['Delivery and Customer Support'].plot.box(patch_artist=True,vert=False,color=props)\n",
    "plt.show()"
   ]
  },
  {
   "cell_type": "code",
   "execution_count": 25,
   "id": "78503b00",
   "metadata": {},
   "outputs": [
    {
     "data": {
      "text/plain": [
       "0    5486\n",
       "1     650\n",
       "Name: Design and Aesthetics, dtype: int64"
      ]
     },
     "execution_count": 25,
     "metadata": {},
     "output_type": "execute_result"
    }
   ],
   "source": [
    "data['Design and Aesthetics'].value_counts()"
   ]
  },
  {
   "cell_type": "code",
   "execution_count": 26,
   "id": "073ca436",
   "metadata": {},
   "outputs": [
    {
     "data": {
      "text/plain": [
       "<AxesSubplot:xlabel='Design and Aesthetics', ylabel='count'>"
      ]
     },
     "execution_count": 26,
     "metadata": {},
     "output_type": "execute_result"
    },
    {
     "data": {
      "image/png": "[encoded data removed]",
      "text/plain": [
       "<Figure size 1080x576 with 1 Axes>"
      ]
     },
     "metadata": {
      "needs_background": "light"
     },
     "output_type": "display_data"
    }
   ],
   "source": [
    "sns.countplot(data['Design and Aesthetics'])"
   ]
  },
  {
   "cell_type": "code",
   "execution_count": 27,
   "id": "5abf6773",
   "metadata": {},
   "outputs": [
    {
     "name": "stdout",
     "output_type": "stream",
     "text": [
      "Polarity                  0     1\n",
      "Design and Aesthetics            \n",
      "0                      1242  4244\n",
      "1                       124   526\n",
      "p value is: 0.04394933982752325\n",
      "It is a good predictor\n"
     ]
    }
   ],
   "source": [
    "a=pd.crosstab(index=data['Design and Aesthetics'],columns=data.Polarity)\n",
    "print(a)\n",
    "b=chi2_contingency(a)\n",
    "print('p value is:',b[1])\n",
    "if b[1]<0.05:\n",
    "        print('It is a good predictor')\n",
    "else:\n",
    "        print('Bad Predictor')"
   ]
  },
  {
   "cell_type": "code",
   "execution_count": 28,
   "id": "59888449",
   "metadata": {},
   "outputs": [
    {
     "data": {
      "text/plain": [
       "0    5441\n",
       "1     695\n",
       "Name: Dimensions, dtype: int64"
      ]
     },
     "execution_count": 28,
     "metadata": {},
     "output_type": "execute_result"
    }
   ],
   "source": [
    "data['Dimensions'].value_counts()"
   ]
  },
  {
   "cell_type": "code",
   "execution_count": 29,
   "id": "5e2e2ae1",
   "metadata": {},
   "outputs": [
    {
     "data": {
      "image/png": "[encoded data removed]",
      "text/plain": [
       "<Figure size 1080x360 with 1 Axes>"
      ]
     },
     "metadata": {
      "needs_background": "light"
     },
     "output_type": "display_data"
    }
   ],
   "source": [
    "data['Dimensions'].value_counts().plot(kind='barh',figsize=(15,5),color='pink',edgecolor='black')\n",
    "plt.show()"
   ]
  },
  {
   "cell_type": "code",
   "execution_count": 30,
   "id": "87613828",
   "metadata": {},
   "outputs": [
    {
     "name": "stdout",
     "output_type": "stream",
     "text": [
      "Polarity       0     1\n",
      "Dimensions            \n",
      "0           1240  4201\n",
      "1            126   569\n",
      "p value is: 0.006282107282828818\n",
      "It is a good predictor\n"
     ]
    }
   ],
   "source": [
    "a=pd.crosstab(index=data['Dimensions'],columns=data.Polarity)\n",
    "print(a)\n",
    "b=chi2_contingency(a)\n",
    "print('p value is:',b[1])\n",
    "if b[1]<0.05:\n",
    "        print('It is a good predictor')\n",
    "else:\n",
    "        print('Bad Predictor')"
   ]
  },
  {
   "cell_type": "code",
   "execution_count": 31,
   "id": "d242493b",
   "metadata": {},
   "outputs": [
    {
     "data": {
      "text/plain": [
       "0    5823\n",
       "1     313\n",
       "Name: Features, dtype: int64"
      ]
     },
     "execution_count": 31,
     "metadata": {},
     "output_type": "execute_result"
    }
   ],
   "source": [
    "data['Features'].value_counts()"
   ]
  },
  {
   "cell_type": "code",
   "execution_count": 32,
   "id": "2fc28143",
   "metadata": {},
   "outputs": [
    {
     "data": {
      "image/png": "[encoded data removed]",
      "text/plain": [
       "<Figure size 1080x360 with 1 Axes>"
      ]
     },
     "metadata": {
      "needs_background": "light"
     },
     "output_type": "display_data"
    }
   ],
   "source": [
    "data['Features'].value_counts().plot(kind='barh',figsize=(15,5),color='red',edgecolor='black')\n",
    "plt.show()"
   ]
  },
  {
   "cell_type": "code",
   "execution_count": 33,
   "id": "ff41331e",
   "metadata": {},
   "outputs": [
    {
     "name": "stdout",
     "output_type": "stream",
     "text": [
      "Polarity     0     1\n",
      "Features            \n",
      "0         1317  4506\n",
      "1           49   264\n",
      "p value is: 0.004883036545967667\n",
      "It is a good predictor\n"
     ]
    }
   ],
   "source": [
    "a=pd.crosstab(index=data['Features'],columns=data.Polarity)\n",
    "print(a)\n",
    "b=chi2_contingency(a)\n",
    "print('p value is:',b[1])\n",
    "if b[1]<0.05:\n",
    "        print('It is a good predictor')\n",
    "else:\n",
    "        print('Bad Predictor')"
   ]
  },
  {
   "cell_type": "code",
   "execution_count": 34,
   "id": "aedbc926",
   "metadata": {},
   "outputs": [
    {
     "data": {
      "text/plain": [
       "0    3598\n",
       "1    2538\n",
       "Name: Functionality, dtype: int64"
      ]
     },
     "execution_count": 34,
     "metadata": {},
     "output_type": "execute_result"
    }
   ],
   "source": [
    "data['Functionality'].value_counts()"
   ]
  },
  {
   "cell_type": "code",
   "execution_count": 35,
   "id": "222f05db",
   "metadata": {},
   "outputs": [
    {
     "data": {
      "text/plain": [
       "<AxesSubplot:xlabel='Functionality', ylabel='count'>"
      ]
     },
     "execution_count": 35,
     "metadata": {},
     "output_type": "execute_result"
    },
    {
     "data": {
      "image/png": "[encoded data removed]",
      "text/plain": [
       "<Figure size 1080x576 with 1 Axes>"
      ]
     },
     "metadata": {
      "needs_background": "light"
     },
     "output_type": "display_data"
    }
   ],
   "source": [
    "sns.countplot(data['Functionality'])"
   ]
  },
  {
   "cell_type": "code",
   "execution_count": 36,
   "id": "95b63762",
   "metadata": {},
   "outputs": [
    {
     "name": "stdout",
     "output_type": "stream",
     "text": [
      "Polarity         0     1\n",
      "Functionality           \n",
      "0              827  2771\n",
      "1              539  1999\n",
      "p value is: 0.11191828882846118\n",
      "Bad Predictor\n"
     ]
    }
   ],
   "source": [
    "a=pd.crosstab(index=data['Functionality'],columns=data.Polarity)\n",
    "print(a)\n",
    "b=chi2_contingency(a)\n",
    "print('p value is:',b[1])\n",
    "if b[1]<0.05:\n",
    "        print('It is a good predictor')\n",
    "else:\n",
    "        print('Bad Predictor')"
   ]
  },
  {
   "cell_type": "code",
   "execution_count": 37,
   "id": "c24b6151",
   "metadata": {},
   "outputs": [],
   "source": [
    "data.drop(['Functionality'],axis=1,inplace=True)"
   ]
  },
  {
   "cell_type": "code",
   "execution_count": 38,
   "id": "6a5e6cf7",
   "metadata": {},
   "outputs": [
    {
     "data": {
      "text/plain": [
       "0    5374\n",
       "1     762\n",
       "Name: Installation, dtype: int64"
      ]
     },
     "execution_count": 38,
     "metadata": {},
     "output_type": "execute_result"
    }
   ],
   "source": [
    "data['Installation'].value_counts()"
   ]
  },
  {
   "cell_type": "code",
   "execution_count": 39,
   "id": "b247f4d7",
   "metadata": {},
   "outputs": [
    {
     "data": {
      "text/plain": [
       "<AxesSubplot:xlabel='Installation', ylabel='count'>"
      ]
     },
     "execution_count": 39,
     "metadata": {},
     "output_type": "execute_result"
    },
    {
     "data": {
      "image/png": "[encoded data removed]",
      "text/plain": [
       "<Figure size 1080x576 with 1 Axes>"
      ]
     },
     "metadata": {
      "needs_background": "light"
     },
     "output_type": "display_data"
    }
   ],
   "source": [
    "sns.countplot(data['Installation'])"
   ]
  },
  {
   "cell_type": "code",
   "execution_count": 40,
   "id": "86de14ca",
   "metadata": {},
   "outputs": [
    {
     "name": "stdout",
     "output_type": "stream",
     "text": [
      "Polarity         0     1\n",
      "Installation            \n",
      "0             1288  4086\n",
      "1               78   684\n",
      "p value is: 2.246067844302169e-17\n",
      "It is a good predictor\n"
     ]
    }
   ],
   "source": [
    "a=pd.crosstab(index=data['Installation'],columns=data.Polarity)\n",
    "print(a)\n",
    "b=chi2_contingency(a)\n",
    "print('p value is:',b[1])\n",
    "if b[1]<0.05:\n",
    "        print('It is a good predictor')\n",
    "else:\n",
    "        print('Bad Predictor')"
   ]
  },
  {
   "cell_type": "code",
   "execution_count": 41,
   "id": "ca780593",
   "metadata": {},
   "outputs": [
    {
     "data": {
      "text/plain": [
       "0    5981\n",
       "1     155\n",
       "Name: Material, dtype: int64"
      ]
     },
     "execution_count": 41,
     "metadata": {},
     "output_type": "execute_result"
    }
   ],
   "source": [
    "data['Material'].value_counts()"
   ]
  },
  {
   "cell_type": "code",
   "execution_count": 42,
   "id": "6584f9d8",
   "metadata": {},
   "outputs": [
    {
     "data": {
      "image/png": "[encoded data removed]",
      "text/plain": [
       "<Figure size 1080x360 with 1 Axes>"
      ]
     },
     "metadata": {
      "needs_background": "light"
     },
     "output_type": "display_data"
    }
   ],
   "source": [
    "data['Material'].value_counts().plot(kind='barh',figsize=(15,5),color='green',edgecolor='black')\n",
    "plt.show()"
   ]
  },
  {
   "cell_type": "code",
   "execution_count": 43,
   "id": "b956c2a4",
   "metadata": {},
   "outputs": [
    {
     "name": "stdout",
     "output_type": "stream",
     "text": [
      "Polarity     0     1\n",
      "Material            \n",
      "0         1299  4682\n",
      "1           67    88\n",
      "p value is: 3.9279773010829216e-10\n",
      "It is a good predictor\n"
     ]
    }
   ],
   "source": [
    "a=pd.crosstab(index=data['Material'],columns=data.Polarity)\n",
    "print(a)\n",
    "b=chi2_contingency(a)\n",
    "print('p value is:',b[1])\n",
    "if b[1]<0.05:\n",
    "        print('It is a good predictor')\n",
    "else:\n",
    "        print('Bad Predictor')"
   ]
  },
  {
   "cell_type": "code",
   "execution_count": 44,
   "id": "4b1f1129",
   "metadata": {},
   "outputs": [
    {
     "name": "stdout",
     "output_type": "stream",
     "text": [
      "<class 'pandas.core.frame.DataFrame'>\n",
      "Int64Index: 6136 entries, 0 to 6135\n",
      "Data columns (total 12 columns):\n",
      " #   Column                         Non-Null Count  Dtype \n",
      "---  ------                         --------------  ----- \n",
      " 0   Review                         6136 non-null   object\n",
      " 1   Components                     6136 non-null   int64 \n",
      " 2   Delivery and Customer Support  6136 non-null   int64 \n",
      " 3   Design and Aesthetics          6136 non-null   int64 \n",
      " 4   Dimensions                     6136 non-null   int64 \n",
      " 5   Features                       6136 non-null   int64 \n",
      " 6   Installation                   6136 non-null   int64 \n",
      " 7   Material                       6136 non-null   int64 \n",
      " 8   Price                          6136 non-null   int64 \n",
      " 9   Quality                        6136 non-null   int64 \n",
      " 10  Usability                      6136 non-null   int64 \n",
      " 11  Polarity                       6136 non-null   int64 \n",
      "dtypes: int64(11), object(1)\n",
      "memory usage: 752.2+ KB\n"
     ]
    }
   ],
   "source": [
    "data.info()"
   ]
  },
  {
   "cell_type": "code",
   "execution_count": 45,
   "id": "4a66814c",
   "metadata": {},
   "outputs": [
    {
     "data": {
      "text/plain": [
       "0    5282\n",
       "1     854\n",
       "Name: Price, dtype: int64"
      ]
     },
     "execution_count": 45,
     "metadata": {},
     "output_type": "execute_result"
    }
   ],
   "source": [
    "data['Price'].value_counts()"
   ]
  },
  {
   "cell_type": "code",
   "execution_count": 46,
   "id": "53acf195",
   "metadata": {},
   "outputs": [
    {
     "data": {
      "image/png": "[encoded data removed]",
      "text/plain": [
       "<Figure size 1080x360 with 1 Axes>"
      ]
     },
     "metadata": {
      "needs_background": "light"
     },
     "output_type": "display_data"
    }
   ],
   "source": [
    "data['Price'].value_counts().plot(kind='barh',figsize=(15,5),color='blue',edgecolor='black')\n",
    "plt.show()"
   ]
  },
  {
   "cell_type": "code",
   "execution_count": 47,
   "id": "aa065b4d",
   "metadata": {},
   "outputs": [
    {
     "name": "stdout",
     "output_type": "stream",
     "text": [
      "Polarity     0     1\n",
      "Price               \n",
      "0         1262  4020\n",
      "1          104   750\n",
      "p value is: 3.182434604546281e-14\n",
      "It is a good predictor\n"
     ]
    }
   ],
   "source": [
    "a=pd.crosstab(index=data['Price'],columns=data.Polarity)\n",
    "print(a)\n",
    "b=chi2_contingency(a)\n",
    "print('p value is:',b[1])\n",
    "\n",
    "if b[1]<0.05:\n",
    "        print('It is a good predictor')\n",
    "else:\n",
    "        print('Bad Predictor')"
   ]
  },
  {
   "cell_type": "code",
   "execution_count": 48,
   "id": "9b8699a7",
   "metadata": {},
   "outputs": [
    {
     "data": {
      "text/plain": [
       "0    3959\n",
       "1    2177\n",
       "Name: Quality, dtype: int64"
      ]
     },
     "execution_count": 48,
     "metadata": {},
     "output_type": "execute_result"
    }
   ],
   "source": [
    "data['Quality'].value_counts()"
   ]
  },
  {
   "cell_type": "code",
   "execution_count": 49,
   "id": "1bb045c2",
   "metadata": {},
   "outputs": [
    {
     "data": {
      "text/plain": [
       "<AxesSubplot:xlabel='Quality', ylabel='count'>"
      ]
     },
     "execution_count": 49,
     "metadata": {},
     "output_type": "execute_result"
    },
    {
     "data": {
      "image/png": "[encoded data removed]",
      "text/plain": [
       "<Figure size 1080x576 with 1 Axes>"
      ]
     },
     "metadata": {
      "needs_background": "light"
     },
     "output_type": "display_data"
    }
   ],
   "source": [
    "sns.countplot(data['Quality'])"
   ]
  },
  {
   "cell_type": "code",
   "execution_count": 50,
   "id": "17de5d83",
   "metadata": {},
   "outputs": [
    {
     "name": "stdout",
     "output_type": "stream",
     "text": [
      "Polarity    0     1\n",
      "Quality            \n",
      "0         798  3161\n",
      "1         568  1609\n",
      "p value is: 1.0711172917628756e-07\n",
      "It is a good predictor\n"
     ]
    }
   ],
   "source": [
    "a=pd.crosstab(index=data['Quality'],columns=data.Polarity)\n",
    "print(a)\n",
    "b=chi2_contingency(a)\n",
    "print('p value is:',b[1])\n",
    "if b[1]<0.05:\n",
    "        print('It is a good predictor')\n",
    "else:\n",
    "        print('Bad Predictor')"
   ]
  },
  {
   "cell_type": "code",
   "execution_count": 51,
   "id": "756767a7",
   "metadata": {},
   "outputs": [
    {
     "data": {
      "text/plain": [
       "0    4907\n",
       "1    1229\n",
       "Name: Usability, dtype: int64"
      ]
     },
     "execution_count": 51,
     "metadata": {},
     "output_type": "execute_result"
    }
   ],
   "source": [
    "data['Usability'].value_counts()"
   ]
  },
  {
   "cell_type": "code",
   "execution_count": 52,
   "id": "97bf37f2",
   "metadata": {},
   "outputs": [
    {
     "data": {
      "text/plain": [
       "<AxesSubplot:xlabel='Usability', ylabel='count'>"
      ]
     },
     "execution_count": 52,
     "metadata": {},
     "output_type": "execute_result"
    },
    {
     "data": {
      "image/png": "[encoded data removed]",
      "text/plain": [
       "<Figure size 1080x576 with 1 Axes>"
      ]
     },
     "metadata": {
      "needs_background": "light"
     },
     "output_type": "display_data"
    }
   ],
   "source": [
    "sns.countplot(data['Usability'])"
   ]
  },
  {
   "cell_type": "code",
   "execution_count": 53,
   "id": "b3e36538",
   "metadata": {},
   "outputs": [
    {
     "name": "stdout",
     "output_type": "stream",
     "text": [
      "Polarity      0     1\n",
      "Usability            \n",
      "0          1252  3655\n",
      "1           114  1115\n",
      "p value is: 3.1385992337733276e-34\n",
      "It is a good predictor\n"
     ]
    }
   ],
   "source": [
    "a=pd.crosstab(index=data['Usability'],columns=data.Polarity)\n",
    "print(a)\n",
    "b=chi2_contingency(a)\n",
    "print('p value is:',b[1])\n",
    "if b[1]<0.05:\n",
    "        print('It is a good predictor')\n",
    "else:\n",
    "        print('Bad Predictor')"
   ]
  },
  {
   "cell_type": "code",
   "execution_count": 54,
   "id": "d31414f1",
   "metadata": {},
   "outputs": [
    {
     "data": {
      "image/png": "[encoded data removed]",
      "text/plain": [
       "<Figure size 1080x576 with 2 Axes>"
      ]
     },
     "metadata": {
      "needs_background": "light"
     },
     "output_type": "display_data"
    }
   ],
   "source": [
    "sns.heatmap(data.corr(),annot=True,cmap='coolwarm')\n",
    "plt.show()"
   ]
  },
  {
   "cell_type": "code",
   "execution_count": 55,
   "id": "bd02358b",
   "metadata": {},
   "outputs": [],
   "source": [
    "data1=data.copy()\n"
   ]
  },
  {
   "cell_type": "code",
   "execution_count": 56,
   "id": "c2c80bc5",
   "metadata": {},
   "outputs": [],
   "source": [
    "data.drop(['Review'],axis=1,inplace=True)"
   ]
  },
  {
   "cell_type": "code",
   "execution_count": 57,
   "id": "da05848d",
   "metadata": {},
   "outputs": [],
   "source": [
    "x=data.drop('Polarity',axis=1)\n",
    "y=data['Polarity']"
   ]
  },
  {
   "cell_type": "code",
   "execution_count": 58,
   "id": "6016fb2d",
   "metadata": {},
   "outputs": [],
   "source": [
    "from sklearn.model_selection import train_test_split"
   ]
  },
  {
   "cell_type": "code",
   "execution_count": 59,
   "id": "56c032e1",
   "metadata": {},
   "outputs": [
    {
     "name": "stdout",
     "output_type": "stream",
     "text": [
      "4111\n",
      "2025\n",
      "4111\n",
      "2025\n"
     ]
    }
   ],
   "source": [
    "x_train, x_test, y_train, y_test = train_test_split(x,y, test_size=0.33, random_state=123)\n",
    "print(len(x_train)) \n",
    "print(len(x_test)) \n",
    "print(len(y_train)) \n",
    "print(len(y_test))"
   ]
  },
  {
   "cell_type": "code",
   "execution_count": 60,
   "id": "7509b030",
   "metadata": {},
   "outputs": [],
   "source": [
    "#Answer6\n",
    "from sklearn.ensemble import RandomForestClassifier\n",
    "from sklearn.metrics import confusion_matrix,classification_report,accuracy_score,roc_curve,auc,roc_auc_score"
   ]
  },
  {
   "cell_type": "code",
   "execution_count": 61,
   "id": "ea35b937",
   "metadata": {},
   "outputs": [
    {
     "data": {
      "text/plain": [
       "array([1, 1, 1, ..., 1, 1, 1], dtype=int64)"
      ]
     },
     "execution_count": 61,
     "metadata": {},
     "output_type": "execute_result"
    }
   ],
   "source": [
    "rfr=RandomForestClassifier()\n",
    "model_rfr=rfr.fit(x_train,y_train)\n",
    "\n",
    "ypred_rfr=model_rfr.predict(x_test)\n",
    "ypred_rfr"
   ]
  },
  {
   "cell_type": "code",
   "execution_count": 62,
   "id": "6c04bbab",
   "metadata": {},
   "outputs": [
    {
     "data": {
      "text/plain": [
       "array([[  83,  349],\n",
       "       [  63, 1530]], dtype=int64)"
      ]
     },
     "execution_count": 62,
     "metadata": {},
     "output_type": "execute_result"
    }
   ],
   "source": [
    "confusion_matrix(y_test,ypred_rfr)"
   ]
  },
  {
   "cell_type": "code",
   "execution_count": 63,
   "id": "4b302fd2",
   "metadata": {},
   "outputs": [
    {
     "name": "stdout",
     "output_type": "stream",
     "text": [
      "              precision    recall  f1-score   support\n",
      "\n",
      "           0       0.57      0.19      0.29       432\n",
      "           1       0.81      0.96      0.88      1593\n",
      "\n",
      "    accuracy                           0.80      2025\n",
      "   macro avg       0.69      0.58      0.58      2025\n",
      "weighted avg       0.76      0.80      0.75      2025\n",
      "\n"
     ]
    }
   ],
   "source": [
    "print(classification_report(y_test,ypred_rfr))"
   ]
  },
  {
   "cell_type": "code",
   "execution_count": 64,
   "id": "a1bba9d5",
   "metadata": {},
   "outputs": [
    {
     "data": {
      "text/plain": [
       "79.7"
      ]
     },
     "execution_count": 64,
     "metadata": {},
     "output_type": "execute_result"
    }
   ],
   "source": [
    "accuracy_rfr=accuracy_score(y_test,ypred_rfr)\n",
    "accuracy_rfr=round(accuracy_rfr*100,1)\n",
    "accuracy_rfr"
   ]
  },
  {
   "cell_type": "code",
   "execution_count": 65,
   "id": "f7451f01",
   "metadata": {},
   "outputs": [],
   "source": [
    "test=pd.read_csv('C:/Users/smile/OneDrive/Desktop/test.csv')"
   ]
  },
  {
   "cell_type": "code",
   "execution_count": 66,
   "id": "3e0b74fc",
   "metadata": {},
   "outputs": [
    {
     "data": {
      "text/html": [
       "<div>\n",
       "<style scoped>\n",
       "    .dataframe tbody tr th:only-of-type {\n",
       "        vertical-align: middle;\n",
       "    }\n",
       "\n",
       "    .dataframe tbody tr th {\n",
       "        vertical-align: top;\n",
       "    }\n",
       "\n",
       "    .dataframe thead th {\n",
       "        text-align: right;\n",
       "    }\n",
       "</style>\n",
       "<table border=\"1\" class=\"dataframe\">\n",
       "  <thead>\n",
       "    <tr style=\"text-align: right;\">\n",
       "      <th></th>\n",
       "      <th>Id</th>\n",
       "      <th>Review</th>\n",
       "      <th>Components</th>\n",
       "      <th>Delivery and Customer Support</th>\n",
       "      <th>Design and Aesthetics</th>\n",
       "      <th>Dimensions</th>\n",
       "      <th>Features</th>\n",
       "      <th>Functionality</th>\n",
       "      <th>Installation</th>\n",
       "      <th>Material</th>\n",
       "      <th>Price</th>\n",
       "      <th>Quality</th>\n",
       "      <th>Usability</th>\n",
       "      <th>Polarity</th>\n",
       "    </tr>\n",
       "  </thead>\n",
       "  <tbody>\n",
       "    <tr>\n",
       "      <th>0</th>\n",
       "      <td>0</td>\n",
       "      <td>Made of very thin cheap metal broke on very fi...</td>\n",
       "      <td>NaN</td>\n",
       "      <td>NaN</td>\n",
       "      <td>NaN</td>\n",
       "      <td>NaN</td>\n",
       "      <td>NaN</td>\n",
       "      <td>NaN</td>\n",
       "      <td>NaN</td>\n",
       "      <td>NaN</td>\n",
       "      <td>NaN</td>\n",
       "      <td>NaN</td>\n",
       "      <td>NaN</td>\n",
       "      <td>NaN</td>\n",
       "    </tr>\n",
       "    <tr>\n",
       "      <th>1</th>\n",
       "      <td>1</td>\n",
       "      <td>As good as the brand names, no jams or misfire...</td>\n",
       "      <td>NaN</td>\n",
       "      <td>NaN</td>\n",
       "      <td>NaN</td>\n",
       "      <td>NaN</td>\n",
       "      <td>NaN</td>\n",
       "      <td>NaN</td>\n",
       "      <td>NaN</td>\n",
       "      <td>NaN</td>\n",
       "      <td>NaN</td>\n",
       "      <td>NaN</td>\n",
       "      <td>NaN</td>\n",
       "      <td>NaN</td>\n",
       "    </tr>\n",
       "    <tr>\n",
       "      <th>2</th>\n",
       "      <td>2</td>\n",
       "      <td>unit was easy to use, with understandable in s...</td>\n",
       "      <td>NaN</td>\n",
       "      <td>NaN</td>\n",
       "      <td>NaN</td>\n",
       "      <td>NaN</td>\n",
       "      <td>NaN</td>\n",
       "      <td>NaN</td>\n",
       "      <td>NaN</td>\n",
       "      <td>NaN</td>\n",
       "      <td>NaN</td>\n",
       "      <td>NaN</td>\n",
       "      <td>NaN</td>\n",
       "      <td>NaN</td>\n",
       "    </tr>\n",
       "    <tr>\n",
       "      <th>3</th>\n",
       "      <td>3</td>\n",
       "      <td>I am the new family plumber. Works well. No pr...</td>\n",
       "      <td>NaN</td>\n",
       "      <td>NaN</td>\n",
       "      <td>NaN</td>\n",
       "      <td>NaN</td>\n",
       "      <td>NaN</td>\n",
       "      <td>NaN</td>\n",
       "      <td>NaN</td>\n",
       "      <td>NaN</td>\n",
       "      <td>NaN</td>\n",
       "      <td>NaN</td>\n",
       "      <td>NaN</td>\n",
       "      <td>NaN</td>\n",
       "    </tr>\n",
       "    <tr>\n",
       "      <th>4</th>\n",
       "      <td>4</td>\n",
       "      <td>Seems to be holding up well.</td>\n",
       "      <td>NaN</td>\n",
       "      <td>NaN</td>\n",
       "      <td>NaN</td>\n",
       "      <td>NaN</td>\n",
       "      <td>NaN</td>\n",
       "      <td>NaN</td>\n",
       "      <td>NaN</td>\n",
       "      <td>NaN</td>\n",
       "      <td>NaN</td>\n",
       "      <td>NaN</td>\n",
       "      <td>NaN</td>\n",
       "      <td>NaN</td>\n",
       "    </tr>\n",
       "  </tbody>\n",
       "</table>\n",
       "</div>"
      ],
      "text/plain": [
       "   Id                                             Review  Components  \\\n",
       "0   0  Made of very thin cheap metal broke on very fi...         NaN   \n",
       "1   1  As good as the brand names, no jams or misfire...         NaN   \n",
       "2   2  unit was easy to use, with understandable in s...         NaN   \n",
       "3   3  I am the new family plumber. Works well. No pr...         NaN   \n",
       "4   4                       Seems to be holding up well.         NaN   \n",
       "\n",
       "   Delivery and Customer Support  Design and Aesthetics  Dimensions  Features  \\\n",
       "0                            NaN                    NaN         NaN       NaN   \n",
       "1                            NaN                    NaN         NaN       NaN   \n",
       "2                            NaN                    NaN         NaN       NaN   \n",
       "3                            NaN                    NaN         NaN       NaN   \n",
       "4                            NaN                    NaN         NaN       NaN   \n",
       "\n",
       "   Functionality  Installation  Material  Price  Quality  Usability  Polarity  \n",
       "0            NaN           NaN       NaN    NaN      NaN        NaN       NaN  \n",
       "1            NaN           NaN       NaN    NaN      NaN        NaN       NaN  \n",
       "2            NaN           NaN       NaN    NaN      NaN        NaN       NaN  \n",
       "3            NaN           NaN       NaN    NaN      NaN        NaN       NaN  \n",
       "4            NaN           NaN       NaN    NaN      NaN        NaN       NaN  "
      ]
     },
     "execution_count": 66,
     "metadata": {},
     "output_type": "execute_result"
    }
   ],
   "source": [
    "test.head()"
   ]
  },
  {
   "cell_type": "code",
   "execution_count": 67,
   "id": "b8ccba3c",
   "metadata": {},
   "outputs": [],
   "source": [
    "test.drop(['Id','Components','Delivery and Customer Support','Design and Aesthetics','Dimensions','Features'],axis=1,inplace=True)"
   ]
  },
  {
   "cell_type": "code",
   "execution_count": 68,
   "id": "bb9ac8dd",
   "metadata": {},
   "outputs": [],
   "source": [
    "test.drop(['Functionality','Installation','Material','Price','Quality','Usability','Polarity'],axis=1,inplace=True)"
   ]
  },
  {
   "cell_type": "code",
   "execution_count": 69,
   "id": "e7009213",
   "metadata": {},
   "outputs": [
    {
     "data": {
      "text/html": [
       "<div>\n",
       "<style scoped>\n",
       "    .dataframe tbody tr th:only-of-type {\n",
       "        vertical-align: middle;\n",
       "    }\n",
       "\n",
       "    .dataframe tbody tr th {\n",
       "        vertical-align: top;\n",
       "    }\n",
       "\n",
       "    .dataframe thead th {\n",
       "        text-align: right;\n",
       "    }\n",
       "</style>\n",
       "<table border=\"1\" class=\"dataframe\">\n",
       "  <thead>\n",
       "    <tr style=\"text-align: right;\">\n",
       "      <th></th>\n",
       "      <th>Review</th>\n",
       "    </tr>\n",
       "  </thead>\n",
       "  <tbody>\n",
       "    <tr>\n",
       "      <th>0</th>\n",
       "      <td>Made of very thin cheap metal broke on very fi...</td>\n",
       "    </tr>\n",
       "    <tr>\n",
       "      <th>1</th>\n",
       "      <td>As good as the brand names, no jams or misfire...</td>\n",
       "    </tr>\n",
       "    <tr>\n",
       "      <th>2</th>\n",
       "      <td>unit was easy to use, with understandable in s...</td>\n",
       "    </tr>\n",
       "    <tr>\n",
       "      <th>3</th>\n",
       "      <td>I am the new family plumber. Works well. No pr...</td>\n",
       "    </tr>\n",
       "    <tr>\n",
       "      <th>4</th>\n",
       "      <td>Seems to be holding up well.</td>\n",
       "    </tr>\n",
       "  </tbody>\n",
       "</table>\n",
       "</div>"
      ],
      "text/plain": [
       "                                              Review\n",
       "0  Made of very thin cheap metal broke on very fi...\n",
       "1  As good as the brand names, no jams or misfire...\n",
       "2  unit was easy to use, with understandable in s...\n",
       "3  I am the new family plumber. Works well. No pr...\n",
       "4                       Seems to be holding up well."
      ]
     },
     "execution_count": 69,
     "metadata": {},
     "output_type": "execute_result"
    }
   ],
   "source": [
    "test.head()"
   ]
  },
  {
   "cell_type": "code",
   "execution_count": 70,
   "id": "d43cea03",
   "metadata": {},
   "outputs": [
    {
     "data": {
      "text/plain": [
       "(6136, 11)"
      ]
     },
     "execution_count": 70,
     "metadata": {},
     "output_type": "execute_result"
    }
   ],
   "source": [
    "data.shape"
   ]
  },
  {
   "cell_type": "code",
   "execution_count": 75,
   "id": "527b3729",
   "metadata": {},
   "outputs": [],
   "source": [
    "from sklearn.preprocessing import LabelEncoder\n",
    "le = LabelEncoder()\n",
    "data1['Review'] = le.fit_transform(data1.Review.values)"
   ]
  },
  {
   "cell_type": "code",
   "execution_count": 76,
   "id": "32313a77",
   "metadata": {},
   "outputs": [
    {
     "data": {
      "text/html": [
       "<div>\n",
       "<style scoped>\n",
       "    .dataframe tbody tr th:only-of-type {\n",
       "        vertical-align: middle;\n",
       "    }\n",
       "\n",
       "    .dataframe tbody tr th {\n",
       "        vertical-align: top;\n",
       "    }\n",
       "\n",
       "    .dataframe thead th {\n",
       "        text-align: right;\n",
       "    }\n",
       "</style>\n",
       "<table border=\"1\" class=\"dataframe\">\n",
       "  <thead>\n",
       "    <tr style=\"text-align: right;\">\n",
       "      <th></th>\n",
       "      <th>Review</th>\n",
       "    </tr>\n",
       "  </thead>\n",
       "  <tbody>\n",
       "    <tr>\n",
       "      <th>0</th>\n",
       "      <td>1223</td>\n",
       "    </tr>\n",
       "    <tr>\n",
       "      <th>1</th>\n",
       "      <td>59</td>\n",
       "    </tr>\n",
       "    <tr>\n",
       "      <th>2</th>\n",
       "      <td>2603</td>\n",
       "    </tr>\n",
       "    <tr>\n",
       "      <th>3</th>\n",
       "      <td>672</td>\n",
       "    </tr>\n",
       "    <tr>\n",
       "      <th>4</th>\n",
       "      <td>1502</td>\n",
       "    </tr>\n",
       "  </tbody>\n",
       "</table>\n",
       "</div>"
      ],
      "text/plain": [
       "   Review\n",
       "0    1223\n",
       "1      59\n",
       "2    2603\n",
       "3     672\n",
       "4    1502"
      ]
     },
     "execution_count": 76,
     "metadata": {},
     "output_type": "execute_result"
    }
   ],
   "source": [
    "\n",
    "test.head()"
   ]
  },
  {
   "cell_type": "code",
   "execution_count": 77,
   "id": "4d12a260",
   "metadata": {},
   "outputs": [],
   "source": [
    "pra=pd.merge(test,data1, on='Review')"
   ]
  },
  {
   "cell_type": "code",
   "execution_count": 78,
   "id": "9a230e00",
   "metadata": {},
   "outputs": [],
   "source": [
    "pra=pra.drop(['Review','Polarity'],axis=1)"
   ]
  },
  {
   "cell_type": "code",
   "execution_count": 79,
   "id": "c4fd44e8",
   "metadata": {},
   "outputs": [
    {
     "data": {
      "text/html": [
       "<div>\n",
       "<style scoped>\n",
       "    .dataframe tbody tr th:only-of-type {\n",
       "        vertical-align: middle;\n",
       "    }\n",
       "\n",
       "    .dataframe tbody tr th {\n",
       "        vertical-align: top;\n",
       "    }\n",
       "\n",
       "    .dataframe thead th {\n",
       "        text-align: right;\n",
       "    }\n",
       "</style>\n",
       "<table border=\"1\" class=\"dataframe\">\n",
       "  <thead>\n",
       "    <tr style=\"text-align: right;\">\n",
       "      <th></th>\n",
       "      <th>Components</th>\n",
       "      <th>Delivery and Customer Support</th>\n",
       "      <th>Design and Aesthetics</th>\n",
       "      <th>Dimensions</th>\n",
       "      <th>Features</th>\n",
       "      <th>Installation</th>\n",
       "      <th>Material</th>\n",
       "      <th>Price</th>\n",
       "      <th>Quality</th>\n",
       "      <th>Usability</th>\n",
       "    </tr>\n",
       "  </thead>\n",
       "  <tbody>\n",
       "    <tr>\n",
       "      <th>0</th>\n",
       "      <td>0</td>\n",
       "      <td>0</td>\n",
       "      <td>0</td>\n",
       "      <td>0</td>\n",
       "      <td>0</td>\n",
       "      <td>0</td>\n",
       "      <td>0</td>\n",
       "      <td>0</td>\n",
       "      <td>1</td>\n",
       "      <td>0</td>\n",
       "    </tr>\n",
       "    <tr>\n",
       "      <th>1</th>\n",
       "      <td>0</td>\n",
       "      <td>0</td>\n",
       "      <td>0</td>\n",
       "      <td>0</td>\n",
       "      <td>0</td>\n",
       "      <td>1</td>\n",
       "      <td>0</td>\n",
       "      <td>0</td>\n",
       "      <td>0</td>\n",
       "      <td>0</td>\n",
       "    </tr>\n",
       "    <tr>\n",
       "      <th>2</th>\n",
       "      <td>0</td>\n",
       "      <td>0</td>\n",
       "      <td>0</td>\n",
       "      <td>0</td>\n",
       "      <td>0</td>\n",
       "      <td>0</td>\n",
       "      <td>0</td>\n",
       "      <td>1</td>\n",
       "      <td>1</td>\n",
       "      <td>0</td>\n",
       "    </tr>\n",
       "    <tr>\n",
       "      <th>3</th>\n",
       "      <td>0</td>\n",
       "      <td>0</td>\n",
       "      <td>0</td>\n",
       "      <td>0</td>\n",
       "      <td>0</td>\n",
       "      <td>1</td>\n",
       "      <td>0</td>\n",
       "      <td>0</td>\n",
       "      <td>0</td>\n",
       "      <td>0</td>\n",
       "    </tr>\n",
       "    <tr>\n",
       "      <th>4</th>\n",
       "      <td>0</td>\n",
       "      <td>0</td>\n",
       "      <td>0</td>\n",
       "      <td>0</td>\n",
       "      <td>0</td>\n",
       "      <td>0</td>\n",
       "      <td>0</td>\n",
       "      <td>1</td>\n",
       "      <td>1</td>\n",
       "      <td>0</td>\n",
       "    </tr>\n",
       "  </tbody>\n",
       "</table>\n",
       "</div>"
      ],
      "text/plain": [
       "   Components  Delivery and Customer Support  Design and Aesthetics  \\\n",
       "0           0                              0                      0   \n",
       "1           0                              0                      0   \n",
       "2           0                              0                      0   \n",
       "3           0                              0                      0   \n",
       "4           0                              0                      0   \n",
       "\n",
       "   Dimensions  Features  Installation  Material  Price  Quality  Usability  \n",
       "0           0         0             0         0      0        1          0  \n",
       "1           0         0             1         0      0        0          0  \n",
       "2           0         0             0         0      1        1          0  \n",
       "3           0         0             1         0      0        0          0  \n",
       "4           0         0             0         0      1        1          0  "
      ]
     },
     "execution_count": 79,
     "metadata": {},
     "output_type": "execute_result"
    }
   ],
   "source": [
    "pra.head()"
   ]
  },
  {
   "cell_type": "code",
   "execution_count": 82,
   "id": "ae9b6b1c",
   "metadata": {},
   "outputs": [
    {
     "data": {
      "text/plain": [
       "array([1, 1, 1, ..., 1, 1, 1], dtype=int64)"
      ]
     },
     "execution_count": 82,
     "metadata": {},
     "output_type": "execute_result"
    }
   ],
   "source": [
    "test_pred=model_rfr.predict(pra)\n",
    "test_pred"
   ]
  },
  {
   "cell_type": "code",
   "execution_count": 83,
   "id": "9e06a807",
   "metadata": {},
   "outputs": [],
   "source": [
    "submission105=pd.read_csv('C:/Users/smile/OneDrive\\Desktop/submission.csv')"
   ]
  },
  {
   "cell_type": "code",
   "execution_count": 84,
   "id": "0d6cb090",
   "metadata": {},
   "outputs": [
    {
     "data": {
      "text/html": [
       "<div>\n",
       "<style scoped>\n",
       "    .dataframe tbody tr th:only-of-type {\n",
       "        vertical-align: middle;\n",
       "    }\n",
       "\n",
       "    .dataframe tbody tr th {\n",
       "        vertical-align: top;\n",
       "    }\n",
       "\n",
       "    .dataframe thead th {\n",
       "        text-align: right;\n",
       "    }\n",
       "</style>\n",
       "<table border=\"1\" class=\"dataframe\">\n",
       "  <thead>\n",
       "    <tr style=\"text-align: right;\">\n",
       "      <th></th>\n",
       "      <th>Components</th>\n",
       "      <th>Delivery and Customer Support</th>\n",
       "      <th>Design and Aesthetics</th>\n",
       "      <th>Dimensions</th>\n",
       "      <th>Features</th>\n",
       "      <th>Functionality</th>\n",
       "      <th>Installation</th>\n",
       "      <th>Material</th>\n",
       "      <th>Price</th>\n",
       "      <th>Quality</th>\n",
       "      <th>Usability</th>\n",
       "      <th>Polarity</th>\n",
       "    </tr>\n",
       "  </thead>\n",
       "  <tbody>\n",
       "    <tr>\n",
       "      <th>0</th>\n",
       "      <td>0</td>\n",
       "      <td>0</td>\n",
       "      <td>0</td>\n",
       "      <td>0</td>\n",
       "      <td>0</td>\n",
       "      <td>0</td>\n",
       "      <td>0</td>\n",
       "      <td>0</td>\n",
       "      <td>0</td>\n",
       "      <td>0</td>\n",
       "      <td>0</td>\n",
       "      <td>0</td>\n",
       "    </tr>\n",
       "    <tr>\n",
       "      <th>1</th>\n",
       "      <td>0</td>\n",
       "      <td>0</td>\n",
       "      <td>0</td>\n",
       "      <td>0</td>\n",
       "      <td>0</td>\n",
       "      <td>0</td>\n",
       "      <td>0</td>\n",
       "      <td>0</td>\n",
       "      <td>0</td>\n",
       "      <td>0</td>\n",
       "      <td>0</td>\n",
       "      <td>0</td>\n",
       "    </tr>\n",
       "    <tr>\n",
       "      <th>2</th>\n",
       "      <td>0</td>\n",
       "      <td>0</td>\n",
       "      <td>0</td>\n",
       "      <td>0</td>\n",
       "      <td>0</td>\n",
       "      <td>0</td>\n",
       "      <td>0</td>\n",
       "      <td>0</td>\n",
       "      <td>0</td>\n",
       "      <td>0</td>\n",
       "      <td>0</td>\n",
       "      <td>0</td>\n",
       "    </tr>\n",
       "    <tr>\n",
       "      <th>3</th>\n",
       "      <td>0</td>\n",
       "      <td>0</td>\n",
       "      <td>0</td>\n",
       "      <td>0</td>\n",
       "      <td>0</td>\n",
       "      <td>0</td>\n",
       "      <td>0</td>\n",
       "      <td>0</td>\n",
       "      <td>0</td>\n",
       "      <td>0</td>\n",
       "      <td>0</td>\n",
       "      <td>0</td>\n",
       "    </tr>\n",
       "    <tr>\n",
       "      <th>4</th>\n",
       "      <td>0</td>\n",
       "      <td>0</td>\n",
       "      <td>0</td>\n",
       "      <td>0</td>\n",
       "      <td>0</td>\n",
       "      <td>0</td>\n",
       "      <td>0</td>\n",
       "      <td>0</td>\n",
       "      <td>0</td>\n",
       "      <td>0</td>\n",
       "      <td>0</td>\n",
       "      <td>0</td>\n",
       "    </tr>\n",
       "    <tr>\n",
       "      <th>...</th>\n",
       "      <td>...</td>\n",
       "      <td>...</td>\n",
       "      <td>...</td>\n",
       "      <td>...</td>\n",
       "      <td>...</td>\n",
       "      <td>...</td>\n",
       "      <td>...</td>\n",
       "      <td>...</td>\n",
       "      <td>...</td>\n",
       "      <td>...</td>\n",
       "      <td>...</td>\n",
       "      <td>...</td>\n",
       "    </tr>\n",
       "    <tr>\n",
       "      <th>2626</th>\n",
       "      <td>0</td>\n",
       "      <td>0</td>\n",
       "      <td>0</td>\n",
       "      <td>0</td>\n",
       "      <td>0</td>\n",
       "      <td>0</td>\n",
       "      <td>0</td>\n",
       "      <td>0</td>\n",
       "      <td>0</td>\n",
       "      <td>0</td>\n",
       "      <td>0</td>\n",
       "      <td>0</td>\n",
       "    </tr>\n",
       "    <tr>\n",
       "      <th>2627</th>\n",
       "      <td>0</td>\n",
       "      <td>0</td>\n",
       "      <td>0</td>\n",
       "      <td>0</td>\n",
       "      <td>0</td>\n",
       "      <td>0</td>\n",
       "      <td>0</td>\n",
       "      <td>0</td>\n",
       "      <td>0</td>\n",
       "      <td>0</td>\n",
       "      <td>0</td>\n",
       "      <td>0</td>\n",
       "    </tr>\n",
       "    <tr>\n",
       "      <th>2628</th>\n",
       "      <td>0</td>\n",
       "      <td>0</td>\n",
       "      <td>0</td>\n",
       "      <td>0</td>\n",
       "      <td>0</td>\n",
       "      <td>0</td>\n",
       "      <td>0</td>\n",
       "      <td>0</td>\n",
       "      <td>0</td>\n",
       "      <td>0</td>\n",
       "      <td>0</td>\n",
       "      <td>0</td>\n",
       "    </tr>\n",
       "    <tr>\n",
       "      <th>2629</th>\n",
       "      <td>0</td>\n",
       "      <td>0</td>\n",
       "      <td>0</td>\n",
       "      <td>0</td>\n",
       "      <td>0</td>\n",
       "      <td>0</td>\n",
       "      <td>0</td>\n",
       "      <td>0</td>\n",
       "      <td>0</td>\n",
       "      <td>0</td>\n",
       "      <td>0</td>\n",
       "      <td>0</td>\n",
       "    </tr>\n",
       "    <tr>\n",
       "      <th>2630</th>\n",
       "      <td>0</td>\n",
       "      <td>0</td>\n",
       "      <td>0</td>\n",
       "      <td>0</td>\n",
       "      <td>0</td>\n",
       "      <td>0</td>\n",
       "      <td>0</td>\n",
       "      <td>0</td>\n",
       "      <td>0</td>\n",
       "      <td>0</td>\n",
       "      <td>0</td>\n",
       "      <td>0</td>\n",
       "    </tr>\n",
       "  </tbody>\n",
       "</table>\n",
       "<p>2631 rows × 12 columns</p>\n",
       "</div>"
      ],
      "text/plain": [
       "      Components  Delivery and Customer Support  Design and Aesthetics  \\\n",
       "0              0                              0                      0   \n",
       "1              0                              0                      0   \n",
       "2              0                              0                      0   \n",
       "3              0                              0                      0   \n",
       "4              0                              0                      0   \n",
       "...          ...                            ...                    ...   \n",
       "2626           0                              0                      0   \n",
       "2627           0                              0                      0   \n",
       "2628           0                              0                      0   \n",
       "2629           0                              0                      0   \n",
       "2630           0                              0                      0   \n",
       "\n",
       "      Dimensions  Features  Functionality  Installation  Material  Price  \\\n",
       "0              0         0              0             0         0      0   \n",
       "1              0         0              0             0         0      0   \n",
       "2              0         0              0             0         0      0   \n",
       "3              0         0              0             0         0      0   \n",
       "4              0         0              0             0         0      0   \n",
       "...          ...       ...            ...           ...       ...    ...   \n",
       "2626           0         0              0             0         0      0   \n",
       "2627           0         0              0             0         0      0   \n",
       "2628           0         0              0             0         0      0   \n",
       "2629           0         0              0             0         0      0   \n",
       "2630           0         0              0             0         0      0   \n",
       "\n",
       "      Quality  Usability  Polarity  \n",
       "0           0          0         0  \n",
       "1           0          0         0  \n",
       "2           0          0         0  \n",
       "3           0          0         0  \n",
       "4           0          0         0  \n",
       "...       ...        ...       ...  \n",
       "2626        0          0         0  \n",
       "2627        0          0         0  \n",
       "2628        0          0         0  \n",
       "2629        0          0         0  \n",
       "2630        0          0         0  \n",
       "\n",
       "[2631 rows x 12 columns]"
      ]
     },
     "execution_count": 84,
     "metadata": {},
     "output_type": "execute_result"
    }
   ],
   "source": [
    "submission105"
   ]
  },
  {
   "cell_type": "code",
   "execution_count": 85,
   "id": "bb7baa33",
   "metadata": {},
   "outputs": [],
   "source": [
    "submission105['Polarity']=test_pred"
   ]
  },
  {
   "cell_type": "code",
   "execution_count": 86,
   "id": "0dfeef01",
   "metadata": {},
   "outputs": [],
   "source": [
    "submission105.to_csv('submission106.csv',index=False)"
   ]
  },
  {
   "cell_type": "code",
   "execution_count": null,
   "id": "250cda37",
   "metadata": {},
   "outputs": [],
   "source": []
  }
 ],
 "metadata": {
  "kernelspec": {
   "display_name": "Python 3",
   "language": "python",
   "name": "python3"
  },
  "language_info": {
   "codemirror_mode": {
    "name": "ipython",
    "version": 3
   },
   "file_extension": ".py",
   "mimetype": "text/x-python",
   "name": "python",
   "nbconvert_exporter": "python",
   "pygments_lexer": "ipython3",
   "version": "3.8.8"
  }
 },
 "nbformat": 4,
 "nbformat_minor": 5
}
